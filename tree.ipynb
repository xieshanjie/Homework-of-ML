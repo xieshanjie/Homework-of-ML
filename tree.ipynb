{
 "cells": [
  {
   "cell_type": "code",
   "execution_count": 1,
   "metadata": {},
   "outputs": [],
   "source": [
    "#预定义\n",
    "from sklearn import tree               #导入模型\n",
    "from sklearn.datasets import load_wine        #加载红酒数据  共178个样本  代表了红酒的三个档次（分别有59,71,48个样本） 以及与之对应的13维的属性数据 \n",
    "from sklearn.model_selection import train_test_split#制作数据集和测试集\n",
    "import pandas as pd\n",
    "\n"
   ]
  },
  {
   "cell_type": "code",
   "execution_count": 4,
   "metadata": {},
   "outputs": [
    {
     "name": "stdout",
     "output_type": "stream",
     "text": [
      "(178, 13)\n",
      "[0 0 0 0 0 0 0 0 0 0 0 0 0 0 0 0 0 0 0 0 0 0 0 0 0 0 0 0 0 0 0 0 0 0 0 0 0\n",
      " 0 0 0 0 0 0 0 0 0 0 0 0 0 0 0 0 0 0 0 0 0 0 1 1 1 1 1 1 1 1 1 1 1 1 1 1 1\n",
      " 1 1 1 1 1 1 1 1 1 1 1 1 1 1 1 1 1 1 1 1 1 1 1 1 1 1 1 1 1 1 1 1 1 1 1 1 1\n",
      " 1 1 1 1 1 1 1 1 1 1 1 1 1 1 1 1 1 1 1 2 2 2 2 2 2 2 2 2 2 2 2 2 2 2 2 2 2\n",
      " 2 2 2 2 2 2 2 2 2 2 2 2 2 2 2 2 2 2 2 2 2 2 2 2 2 2 2 2 2 2]\n",
      "['alcohol', 'malic_acid', 'ash', 'alcalinity_of_ash', 'magnesium', 'total_phenols', 'flavanoids', 'nonflavanoid_phenols', 'proanthocyanins', 'color_intensity', 'hue', 'od280/od315_of_diluted_wines', 'proline']\n",
      "['class_0' 'class_1' 'class_2']\n"
     ]
    }
   ],
   "source": [
    "wine = load_wine()\n",
    "print(wine.data.shape)#形状 （178,13）\n",
    "print(wine.target)#（178，）\n",
    "pd.concat([pd.DataFrame(wine.data),pd.DataFrame(wine.target)],axis=1)\n",
    "print(wine.feature_names)\n",
    "print(wine.target_names)"
   ]
  },
  {
   "cell_type": "code",
   "execution_count": 5,
   "metadata": {},
   "outputs": [
    {
     "name": "stdout",
     "output_type": "stream",
     "text": [
      "(124, 13)\n",
      "(54, 13)\n"
     ]
    }
   ],
   "source": [
    "Xtrain, Xtest, Ytrain, Ytest = train_test_split(wine.data,wine.target,test_size=0.3)#分训练集、测试集  测试集占0.3\n",
    "print(Xtrain.shape)#训练集形状\n",
    "print(Xtest.shape)#测试集形状   "
   ]
  },
  {
   "cell_type": "code",
   "execution_count": 6,
   "metadata": {},
   "outputs": [
    {
     "name": "stdout",
     "output_type": "stream",
     "text": [
      "0.9629629629629629\n"
     ]
    }
   ],
   "source": [
    "clf = tree.DecisionTreeClassifier(criterion=\"entropy\")# 载入决策树分类模型\n",
    "clf = clf.fit(Xtrain, Ytrain)# 决策树拟合，得到模型\n",
    "score = clf.score(Xtest, Ytest) #返回预测的准确度\n",
    "print(score)"
   ]
  },
  {
   "cell_type": "code",
   "execution_count": 10,
   "metadata": {},
   "outputs": [],
   "source": [
    "feature_name = ['酒精','苹果酸','灰','灰的碱性','镁','总酚','类黄酮','非黄烷类酚类','花青素','颜色强度','色调','od280/od315稀释葡萄酒','脯氨酸']\n"
   ]
  },
  {
   "cell_type": "code",
   "execution_count": null,
   "metadata": {},
   "outputs": [],
   "source": [
    "import graphviz\n",
    "dot_data = tree.export_graphviz(clf,feature_names= feature_name,class_names=[\"琴酒\",\"雪莉\",\"贝尔摩德\"],filled=True,rounded=True)\n",
    "graph = graphviz.Source(dot_data)#画树\n",
    "graph"
   ]
  },
  {
   "cell_type": "code",
   "execution_count": 11,
   "metadata": {},
   "outputs": [
    {
     "name": "stdout",
     "output_type": "stream",
     "text": [
      "[0.         0.         0.         0.03403817 0.         0.\n",
      " 0.39855519 0.         0.         0.26134164 0.         0.\n",
      " 0.306065  ]\n",
      "[('酒精', 0.0), ('苹果酸', 0.0), ('灰', 0.0), ('灰的碱性', 0.034038168143105924), ('镁', 0.0), ('总酚', 0.0), ('类黄酮', 0.39855518847587224), ('非黄烷类酚类', 0.0), ('花青素', 0.0), ('颜色强度', 0.26134163938033883), ('色调', 0.0), ('od280/od315稀释葡萄酒', 0.0), ('脯氨酸', 0.30606500400068304)]\n"
     ]
    }
   ],
   "source": [
    "#特征重要性\n",
    "print(clf.feature_importances_)\n",
    "print([*zip(feature_name,clf.feature_importances_)])"
   ]
  },
  {
   "cell_type": "code",
   "execution_count": 36,
   "metadata": {},
   "outputs": [
    {
     "name": "stdout",
     "output_type": "stream",
     "text": [
      "<class 'tuple'>\n",
      "<class 'numpy.ndarray'>\n"
     ]
    }
   ],
   "source": [
    "import numpy as np\n",
    "print(type(np.nonzero([1])))\n",
    "print(type(np.nonzero([1])[0]))\n"
   ]
  },
  {
   "cell_type": "code",
   "execution_count": 39,
   "metadata": {},
   "outputs": [
    {
     "data": {
      "text/plain": [
       "float"
      ]
     },
     "execution_count": 39,
     "metadata": {},
     "output_type": "execute_result"
    }
   ],
   "source": [
    "type(np.inf)"
   ]
  },
  {
   "cell_type": "code",
   "execution_count": null,
   "metadata": {},
   "outputs": [],
   "source": [
    "\n",
    "import numpy\n",
    "def refreshWeightArr(expon, original_weightArr):\n",
    "    '''\n",
    "    这是一个训练数据集的权值分布WeightArr的更新函数\n",
    "    输入：expon是由基分类器的权重（由分类错误率计算得到的）、类别标签以及单层决策树划分后得到的类别估计值计算得到的\n",
    "         original_weightArr是更新之前的WeightArr\n",
    "    输出：updated_weightArr是更新之后的训练数据集的权值分布\n",
    "    '''\n",
    "    intermediate_variable = original_weightArr * numpy.exp(expon)\n",
    "    updated_weightArr = intermediate_variable / intermediate_variable.sum()\n",
    "    return updated_weightArr\n",
    " \n",
    " \n",
    "def adaBoostTrain(dataArr, labelArr, iterationsNumber=40):\n",
    "    '''\n",
    "    这是基于单层决策树的adaBoost算法\n",
    "    输入：dataArr是numpy.ndarray形式的样本数据集\n",
    "          labelArr是numpy.ndarray形式的类别标签\n",
    "          iterationsNumber是迭代次数\n",
    "    输出：多个弱分类器组成的numpy.ndarray形式的分类器集合\n",
    "    '''\n",
    "    classifier_Arr = []\n",
    "    m = dataArr.shape[0]\n",
    "    weightArr = numpy.ones((m, 1)) / m\n",
    "    accumulative_estimated_value = numpy.zeros((m, 1))\n",
    "    for i in range(iterationsNumber):\n",
    "        current_SigleTree, current_Error, current_label_Result =\\\n",
    "                    buildSingleTree(dataArr, labelArr, weightArr)\n",
    "        alpha = float(0.5 * numpy.log((1.0 - current_Error) / max(current_Error, 1e-16)))\n",
    "        current_SigleTree['alpha'] = alpha\n",
    "        classifier_Arr.append(current_SigleTree)\n",
    "        expon = -1 * alpha * numpy.array(labelArr).reshape(m, 1) * current_label_Result\n",
    "        weightArr = refreshWeightArr(expon, weightArr)\n",
    "        accumulative_estimated_value += alpha * current_label_Result\n",
    "        if len(numpy.nonzero(numpy.sign(accumulative_estimated_value) !=\\   \n",
    "                    labelArr.reshape(m, 1))[0]) == 0:\n",
    "            break\n",
    " \n",
    "    return classifier_Arr"
   ]
  },
  {
   "cell_type": "code",
   "execution_count": 1,
   "metadata": {},
   "outputs": [
    {
     "data": {
      "text/plain": [
       "array([0, 1, 1, 0, 0])"
      ]
     },
     "execution_count": 1,
     "metadata": {},
     "output_type": "execute_result"
    }
   ],
   "source": [
    "import numpy as np\n",
    "\n",
    "feature = np.array([1,0,-1,2,22])\n",
    "threshold = 1\n",
    "op = 0\n",
    "y_pre = 1*(feature >= threshold) if op == 1 else 1*(feature < threshold)\n",
    "y_pre"
   ]
  },
  {
   "cell_type": "code",
   "execution_count": 8,
   "metadata": {},
   "outputs": [
    {
     "name": "stdout",
     "output_type": "stream",
     "text": [
      "[[2.12199579e-314 6.95187041e-310]\n",
      " [3.57703528e-321 1.11830007e-311]]\n",
      "[2.12199579e-314 3.57703528e-321]\n",
      "[6.95187041e-310 1.11830007e-311]\n"
     ]
    }
   ],
   "source": [
    "a = np.empty((2,2))\n",
    "print(a)\n",
    "print(a[:,0])\n",
    "print(a[:,1])"
   ]
  }
 ],
 "metadata": {
  "interpreter": {
   "hash": "6817279165ed1520b97d80cdb7b58218c41e553d46797572cc0642500f078bc9"
  },
  "kernelspec": {
   "display_name": "Python 3.9.0 64-bit",
   "language": "python",
   "name": "python3"
  },
  "language_info": {
   "codemirror_mode": {
    "name": "ipython",
    "version": 3
   },
   "file_extension": ".py",
   "mimetype": "text/x-python",
   "name": "python",
   "nbconvert_exporter": "python",
   "pygments_lexer": "ipython3",
   "version": "3.9.0"
  },
  "orig_nbformat": 4
 },
 "nbformat": 4,
 "nbformat_minor": 2
}
